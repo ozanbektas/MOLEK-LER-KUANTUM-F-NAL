{
 "cells": [
  {
   "cell_type": "code",
   "execution_count": 31,
   "metadata": {},
   "outputs": [],
   "source": [
    "import numpy as np"
   ]
  },
  {
   "cell_type": "code",
   "execution_count": 38,
   "metadata": {},
   "outputs": [],
   "source": [
    "# Verilen veriler\n",
    "S = np.array([[1.0000000, 0.6589309], [0.6589309, 1.0000000]])\n",
    "h = np.array([[-1.1200252, -0.9576853], [-0.9576853, -1.1200252]])\n",
    "two_electron_integrals = {\n",
    "    (0, 0, 0, 0): 0.7746059,\n",
    "    (1, 1, 1, 1): 0.7746059,\n",
    "    (1, 0, 0, 0): 0.4437704,\n",
    "    (1, 1, 0, 1): 0.4437704,\n",
    "    (1, 0, 1, 0): 0.2966367,\n",
    "    (1, 1, 0, 0): 0.5694534\n",
    "}\n",
    "nuclear_repulsion_energy = 0.7137155\n",
    "convergence_tolerance = 1e-4"
   ]
  },
  {
   "cell_type": "code",
   "execution_count": 39,
   "metadata": {},
   "outputs": [],
   "source": [
    "two_electron_integrals = {\n",
    "    (0, 0, 0, 0): 0.7746059,  # (11|11)\n",
    "    (1, 1, 1, 1): 0.7746059,  # (22|22)\n",
    "    (1, 0, 0, 0): 0.4437704,  # (21|11)\n",
    "    (1, 1, 0, 1): 0.4437704,  # (22|21)\n",
    "    (1, 0, 1, 0): 0.2966367,  # (21|21)\n",
    "    (1, 1, 0, 0): 0.5694534   # (22|11)\n",
    "}"
   ]
  },
  {
   "cell_type": "code",
   "execution_count": 40,
   "metadata": {},
   "outputs": [],
   "source": [
    "def scf_procedure(S, h, two_electron_integrals, nuclear_repulsion_energy, convergence_tolerance):\n",
    "    # Overlap matrix S'nin eigenvalue decomposition'u\n",
    "    eigvals, eigvecs = np.linalg.eigh(S)\n",
    "    S_half_inv = eigvecs @ np.diag(1.0 / np.sqrt(eigvals)) @ eigvecs.T\n"
   ]
  },
  {
   "cell_type": "code",
   "execution_count": 41,
   "metadata": {},
   "outputs": [],
   "source": [
    "P = np.zeros_like(h)"
   ]
  },
  {
   "cell_type": "code",
   "execution_count": 42,
   "metadata": {},
   "outputs": [],
   "source": [
    "def scf_procedure(S, h, two_electron_integrals, nuclear_repulsion_energy, convergence_tolerance):\n",
    "    # Overlap matrix S'nin eigenvalue decomposition'u\n",
    "    eigvals, eigvecs = np.linalg.eigh(S)\n",
    "    # S'nin yarısının tersini hesapla\n",
    "    S_half_inv = eigvecs @ np.diag(1.0 / np.sqrt(eigvals)) @ eigvecs.T\n",
    "\n",
    "    # Başlangıç yoğunluk matrisi sıfır\n",
    "    P = np.zeros_like(h)\n",
    "\n",
    "    # Fock matrisi hesaplama fonksiyonu\n",
    "    def fock_matrix(P):\n",
    "        F = h.copy()\n",
    "        for p in range(2):\n",
    "            for q in range(2):\n",
    "                for r in range(2):\n",
    "                    for s in range(2):\n",
    "                        F[p, q] += P[r, s] * (\n",
    "                            two_electron_integrals.get((p, q, r, s), 0) -\n",
    "                            0.5 * two_electron_integrals.get((p, s, r, q), 0)\n",
    "                        )\n",
    "        return F\n",
    "\n",
    "    iteration = 0\n",
    "    while True:\n",
    "        # Fock matrisini hesapla\n",
    "        F = fock_matrix(P)\n",
    "        # F'yi diagonalize etmek için S'nin yarısının tersi ile dönüştür\n",
    "        F_prime = S_half_inv @ F @ S_half_inv\n",
    "        # F'yi diagonalize et\n",
    "        eigvals, C_prime = np.linalg.eigh(F_prime)\n",
    "        # C matrisini dönüştür\n",
    "        C = S_half_inv @ C_prime\n",
    "        # Yeni yoğunluk matrisini hesapla\n",
    "        P_new = np.zeros_like(P)\n",
    "        for i in range(2):\n",
    "            for j in range(2):\n",
    "                P_new[i, j] = 2 * sum(C[i, k] * C[j, k] for k in range(1))\n",
    "\n",
    "        # Yoğunluk matrisinin değişim normu belirlenen toleransın altına düştüğünde dur\n",
    "        if np.linalg.norm(P_new - P) < convergence_tolerance:\n",
    "            break\n",
    "        P = P_new\n",
    "        iteration += 1\n",
    "\n",
    "    # Enerjiyi hesapla\n",
    "    energy = 0.5 * np.sum(P * (h + F)) + nuclear_repulsion_energy\n",
    "    return energy, iteration"
   ]
  },
  {
   "cell_type": "code",
   "execution_count": 43,
   "metadata": {},
   "outputs": [
    {
     "name": "stdout",
     "output_type": "stream",
     "text": [
      "Enerji: -1.3896265809149544\n",
      "İterasyon Sayısı: 6\n"
     ]
    }
   ],
   "source": [
    "# Fonksiyonu çağır ve sonucu yazdır\n",
    "energy, iterations = scf_procedure(S, h, two_electron_integrals, nuclear_repulsion_energy, convergence_tolerance)\n",
    "print(\"Enerji:\", energy)\n",
    "print(\"İterasyon Sayısı:\", iterations)"
   ]
  }
 ],
 "metadata": {
  "kernelspec": {
   "display_name": "Python 3",
   "language": "python",
   "name": "python3"
  },
  "language_info": {
   "codemirror_mode": {
    "name": "ipython",
    "version": 3
   },
   "file_extension": ".py",
   "mimetype": "text/x-python",
   "name": "python",
   "nbconvert_exporter": "python",
   "pygments_lexer": "ipython3",
   "version": "3.11.9"
  }
 },
 "nbformat": 4,
 "nbformat_minor": 2
}
