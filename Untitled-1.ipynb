{
 "cells": [
  {
   "cell_type": "code",
   "execution_count": 3,
   "metadata": {},
   "outputs": [],
   "source": [
    "pip install numpy"
   ]
  },
  {
   "cell_type": "code",
   "execution_count": 1,
   "metadata": {},
   "outputs": [],
   "source": [
    "import numpy as np"
   ]
  },
  {
   "cell_type": "markdown",
   "metadata": {},
   "source": [
    "### Kuantum kimyasında matris işlemleri ve lineer cebir hesaplamaları sıkça kullanılır, bu nedenle NumPy gibi bir kütüphane zorunludur."
   ]
  },
  {
   "cell_type": "code",
   "execution_count": 4,
   "metadata": {},
   "outputs": [],
   "source": [
    "# Matrisler ve sabitler\n",
    "\n",
    "S = np.array([[1.0000000, 0.6589309], [0.6589309, 1.0000000]])\n",
    "h = np.array([[-1.1200252, -0.9576853], [-0.9576853, -1.1200252]])\n",
    "two_electron_integrals = {\n",
    "    (0, 0, 0, 0): 0.7746059,\n",
    "    (1, 1, 1, 1): 0.7746059,\n",
    "    (1, 0, 0, 0): 0.4437704,\n",
    "    (1, 1, 0, 1): 0.4437704,\n",
    "    (1, 0, 1, 0): 0.2966367,\n",
    "    (1, 1, 0, 0): 0.5694534\n",
    "}\n",
    "nuclear_repulsion_energy = 0.7137155\n",
    "convergence_tolerance = 1e-4"
   ]
  },
  {
   "cell_type": "markdown",
   "metadata": {},
   "source": [
    "#### AMAÇ :Hartree-Fock (HF) yönteminde kullanılan başlangıç matrislerini ve sabitleri tanımlamak.\n",
    "#### S (üst üste binme matrisi) ve h (bir elektronlu Hamiltonian matrisi) moleküler orbitallerin ve elektron yoğunluğunun hesaplanmasında kullanılır. İki elektron integralleri, elektron-elektron etkileşimlerini içerir. Çekirdek-çekirdek itme enerjisi, toplam enerji hesaplamasında yer alır. Convergence toleransı ise iterasyonların durma kriterini belirler.\n"
   ]
  },
  {
   "cell_type": "markdown",
   "metadata": {},
   "source": [
    "##### Başlangıç yoğunluk matrisi sıfır"
   ]
  },
  {
   "cell_type": "code",
   "execution_count": 5,
   "metadata": {},
   "outputs": [],
   "source": [
    "P = np.zeros_like(h)"
   ]
  },
  {
   "cell_type": "markdown",
   "metadata": {},
   "source": [
    "#### Amaç: Başlangıç yoğunluk matrisini sıfır matrisi olarak tanımlamak.\n",
    "#### HF iterasyonlarının başlangıç noktası olarak bir yoğunluk matrisi gereklidir. İlk iterasyon için sıfır matrisini kullanmak, hesaplamaların başlatılmasını sağlar. Yoğunluk matrisi, elektron yoğunluğunun dağılımını gösterir ve iterasyonlar boyunca güncellenir."
   ]
  },
  {
   "cell_type": "code",
   "execution_count": 6,
   "metadata": {},
   "outputs": [],
   "source": [
    "S_half = np.linalg.inv(np.linalg.cholesky(S)).T\n",
    "S_half_inv = np.linalg.inv(S_half)"
   ]
  },
  {
   "cell_type": "markdown",
   "metadata": {},
   "source": [
    "#### Amaç: Üst üste binme matrisinin (S) karekökünü ve tersini hesaplamak.\n",
    "####  Fock matrisinin diyagonalizasyonu için ortogonal bir baz oluşturmak gerekir.S matrisinin karekökü ve tersi, Fock matrisinin ortogonal bazda ifade edilmesini sağlar. Bu, eigenvalue probleminin çözülmesini kolaylaştırır, böylece enerji seviyeleri ve moleküler orbitaller belirlenir."
   ]
  },
  {
   "cell_type": "code",
   "execution_count": 7,
   "metadata": {},
   "outputs": [],
   "source": [
    "def fock_matrix(P):\n",
    "    F = h.copy()\n",
    "    for p in range(2):\n",
    "        for q in range(2):\n",
    "            for r in range(2):\n",
    "                for s in range(2):\n",
    "                    F[p, q] += P[r, s] * (\n",
    "                        two_electron_integrals.get((p, q, r, s), 0) -\n",
    "                        0.5 * two_electron_integrals.get((p, s, r, q), 0)\n",
    "                    )\n",
    "    return F"
   ]
  },
  {
   "cell_type": "markdown",
   "metadata": {},
   "source": [
    "#### Amaç Fock matrisini hesaplamak için bir fonksiyon tanımlamak.\n",
    "#### Fock matrisi, elektronların enerjilerini ve orbitallerini belirlemek için kullanılır.Fock matrisi, bir elektronlu Hamiltonian ve iki elektron integrallerini içerir. Bu, elektronların toplam enerjisini hesaplamak için kullanılır. Matris, elektronların birbirleriyle etkileşimlerini ve sistemin toplam enerjisini içerir."
   ]
  },
  {
   "cell_type": "code",
   "execution_count": 8,
   "metadata": {},
   "outputs": [],
   "source": [
    "iteration = 0\n",
    "while True:\n",
    "    F = fock_matrix(P)\n",
    "    F_prime = S_half_inv @ F @ S_half_inv\n",
    "    eigvals, C_prime = np.linalg.eigh(F_prime)\n",
    "    C = S_half_inv @ C_prime\n",
    "    P_new = np.zeros_like(P)\n",
    "    for i in range(2):\n",
    "        for j in range(2):\n",
    "            P_new[i, j] = 2 * sum(C[i, k] * C[j, k] for k in range(1))\n",
    "\n",
    "    if np.linalg.norm(P_new - P) < convergence_tolerance:\n",
    "        break\n",
    "    P = P_new\n",
    "    iteration += 1"
   ]
  },
  {
   "cell_type": "markdown",
   "metadata": {},
   "source": [
    "#### Amaç: Hartree-Fock iterasyonlarını gerçekleştirmek.\n",
    "#### Fock matrisi ve yoğunluk matrisinin güncellenmesiyle sistemin enerjisi minimize edilir.Fock matrisinin hesaplanması, ortogonal dönüşüm ile eigenvalue probleminin çözülmesi ve yeni yoğunluk matrisinin hesaplanması iterasyon döngüsünde yapılır. Yoğunluk matrisi güncellenir ve convergence sağlanana kadar süreç devam eder. Bu iteratif yöntem, sistemin kararlı durumdaki enerji seviyelerini ve orbitallerini bulmayı sağlar."
   ]
  },
  {
   "cell_type": "code",
   "execution_count": 9,
   "metadata": {},
   "outputs": [],
   "source": [
    "energy = 0.5 * np.sum(P * (h + F)) + nuclear_repulsion_energy"
   ]
  },
  {
   "cell_type": "markdown",
   "metadata": {},
   "source": [
    "#### Amaç: Toplam enerji hesaplamak.\n",
    "#### Elektronların toplam enerjisi, yoğunluk matrisi ile Fock ve Hamiltonian matrislerinin çarpımıyla hesaplanır. Çekirdek-çekirdek itme enerjisi eklenerek sistemin toplam enerjisi elde edilir."
   ]
  },
  {
   "cell_type": "code",
   "execution_count": 10,
   "metadata": {},
   "outputs": [
    {
     "name": "stdout",
     "output_type": "stream",
     "text": [
      "Energy: -2.2367876748046944, Iterations: 6\n"
     ]
    }
   ],
   "source": [
    "print(f\"Energy: {energy}, Iterations: {iteration}\")"
   ]
  },
  {
   "cell_type": "markdown",
   "metadata": {},
   "source": [
    "#### Amaç : Enerji ve iterasyon sayısını yazdırmak.\n",
    "#### Hesaplanan toplam enerji değeri ve iterasyon sayısı kullanıcıya bildirilir, böylece hesaplamaların doğruluğu ve konverjansı kontrol edilir."
   ]
  }
 ],
 "metadata": {
  "kernelspec": {
   "display_name": "Python 3",
   "language": "python",
   "name": "python3"
  },
  "language_info": {
   "codemirror_mode": {
    "name": "ipython",
    "version": 3
   },
   "file_extension": ".py",
   "mimetype": "text/x-python",
   "name": "python",
   "nbconvert_exporter": "python",
   "pygments_lexer": "ipython3",
   "version": "3.11.9"
  }
 },
 "nbformat": 4,
 "nbformat_minor": 2
}
